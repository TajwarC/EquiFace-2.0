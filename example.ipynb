{
 "cells": [
  {
   "cell_type": "code",
   "execution_count": 1,
   "id": "1b2c800c",
   "metadata": {},
   "outputs": [],
   "source": [
    "import sys\n",
    "sys.path.append('.src')\n",
    "from equiface.verification import FPR, FNR"
   ]
  },
  {
   "cell_type": "code",
   "execution_count": 2,
   "id": "bfff6288",
   "metadata": {},
   "outputs": [],
   "source": [
    "dataset_dir = 'monk/ST1'\n",
    "model_path = 'model.tflite'"
   ]
  },
  {
   "cell_type": "code",
   "execution_count": 3,
   "id": "8dc82e7f",
   "metadata": {},
   "outputs": [
    {
     "name": "stderr",
     "output_type": "stream",
     "text": [
      "Processing pairs: 100%|██████████| 132/132 [00:46<00:00,  2.83pair/s]\n"
     ]
    },
    {
     "name": "stdout",
     "output_type": "stream",
     "text": [
      "Total possible pairs: 132\n",
      "Processed pairs: 132\n",
      "Mean FNR: 72.7273%\n",
      "Average Distance: 0.6177\n",
      "Logged FNR result: 72.7273% in verification_results.yaml\n"
     ]
    },
    {
     "data": {
      "text/plain": [
       "0.7272727272727273"
      ]
     },
     "execution_count": 3,
     "metadata": {},
     "output_type": "execute_result"
    }
   ],
   "source": [
    "FNR(dataset_dir, model_path, percentage=100, use_multiprocessing=True, num_cores=4)"
   ]
  },
  {
   "cell_type": "code",
   "execution_count": null,
   "id": "eb13e70b",
   "metadata": {},
   "outputs": [],
   "source": []
  }
 ],
 "metadata": {
  "kernelspec": {
   "display_name": "base",
   "language": "python",
   "name": "python3"
  },
  "language_info": {
   "codemirror_mode": {
    "name": "ipython",
    "version": 3
   },
   "file_extension": ".py",
   "mimetype": "text/x-python",
   "name": "python",
   "nbconvert_exporter": "python",
   "pygments_lexer": "ipython3",
   "version": "3.12.4"
  }
 },
 "nbformat": 4,
 "nbformat_minor": 5
}
